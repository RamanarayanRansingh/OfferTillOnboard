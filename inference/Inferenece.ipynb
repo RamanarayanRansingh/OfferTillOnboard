{
 "cells": [
  {
   "cell_type": "code",
   "execution_count": 19,
   "id": "db224b96-3f34-4874-9b71-dbc9f0bcc8b1",
   "metadata": {},
   "outputs": [],
   "source": [
    "import os\n",
    "os.chdir(r'C:\\Users\\ramna\\Desktop\\Project2')"
   ]
  },
  {
   "cell_type": "code",
   "execution_count": 21,
   "id": "7275c4c4-aa7f-4dba-ae49-8e6d3d860304",
   "metadata": {},
   "outputs": [],
   "source": [
    "import numpy as np\n",
    "import joblib\n",
    "import pandas as pd\n",
    "\n",
    "# Load the model and scaler\n",
    "model = joblib.load('models/xgb_tunedv2.pkl')\n",
    "scaler = joblib.load('scalers/scaler.pkl')\n",
    "columns = joblib.load('models/columns.pkl')"
   ]
  },
  {
   "cell_type": "code",
   "execution_count": 23,
   "id": "21ffd860-679d-46a7-aacd-a003162a2626",
   "metadata": {},
   "outputs": [
    {
     "data": {
      "text/plain": [
       "['Duration_to_accept_offer',\n",
       " 'Notice_Period',\n",
       " 'Percent_hike_expected_in_CTC',\n",
       " 'Percent_difference_CTC',\n",
       " 'Rex_in_Yrs',\n",
       " 'Age',\n",
       " 'DOJ_Extended_Yes',\n",
       " 'Offered_Band_E1',\n",
       " 'Offered_Band_E2',\n",
       " 'Offered_Band_E3',\n",
       " 'Joining_Bonus_Yes',\n",
       " 'Candidate_relocate_actual_Yes',\n",
       " 'Gender_Male',\n",
       " 'Candidate_Source_Direct',\n",
       " 'Candidate_Source_Employee Referral',\n",
       " 'LOB_BFSI',\n",
       " 'LOB_CSMP',\n",
       " 'LOB_EAS',\n",
       " 'LOB_ERS',\n",
       " 'LOB_ETS',\n",
       " 'LOB_Healthcare',\n",
       " 'LOB_INFRA',\n",
       " 'LOB_MMS',\n",
       " 'Location_Bangalore',\n",
       " 'Location_Chennai',\n",
       " 'Location_Cochin',\n",
       " 'Location_Gurgaon',\n",
       " 'Location_Hyderabad',\n",
       " 'Location_Kolkata',\n",
       " 'Location_Mumbai',\n",
       " 'Location_Noida',\n",
       " 'Location_Pune',\n",
       " 'Region_Name_North',\n",
       " 'Region_Name_South',\n",
       " 'Region_Name_West',\n",
       " 'Domicile_Name_Bihar',\n",
       " 'Domicile_Name_Chandigarh',\n",
       " 'Domicile_Name_Chhattisgarh',\n",
       " 'Domicile_Name_Delhi',\n",
       " 'Domicile_Name_Goa',\n",
       " 'Domicile_Name_Gujarat',\n",
       " 'Domicile_Name_Haryana',\n",
       " 'Domicile_Name_Himachal Pradesh',\n",
       " 'Domicile_Name_Jharkhand',\n",
       " 'Domicile_Name_Karnataka',\n",
       " 'Domicile_Name_Kerala',\n",
       " 'Domicile_Name_Madhya Pradesh',\n",
       " 'Domicile_Name_Maharashtra',\n",
       " 'Domicile_Name_Manipur',\n",
       " 'Domicile_Name_Odisha',\n",
       " 'Domicile_Name_Punjab',\n",
       " 'Domicile_Name_Rajasthan',\n",
       " 'Domicile_Name_Tamil Nadu',\n",
       " 'Domicile_Name_Telangana',\n",
       " 'Domicile_Name_Tripura',\n",
       " 'Domicile_Name_Uttar Pradesh',\n",
       " 'Domicile_Name_Uttarkhand',\n",
       " 'Domicile_Name_West Bengal']"
      ]
     },
     "execution_count": 23,
     "metadata": {},
     "output_type": "execute_result"
    }
   ],
   "source": [
    "columns"
   ]
  },
  {
   "cell_type": "code",
   "execution_count": 31,
   "id": "ed2d5fa0-d3d0-4de1-bdfd-7f77c23b3e7e",
   "metadata": {},
   "outputs": [],
   "source": [
    "data = np.array([[-0.63685405,  0.93157844,  0.0924254 ,  0.31465605, -1.27106423,\n",
    "       -1.44268263,  0.        ,  1.        ,  0.        ,  0.        ,\n",
    "        0.        ,  0.        ,  1.        ,  0.        ,  0.        ,\n",
    "        0.        ,  0.        ,  0.        ,  0.        ,  0.        ,\n",
    "        0.        ,  1.        ,  0.        ,  0.        ,  0.        ,\n",
    "        0.        ,  0.        ,  0.        ,  0.        ,  0.        ,\n",
    "        1.        ,  0.        ,  1.        ,  0.        ,  0.        ,\n",
    "        0.        ,  0.        ,  0.        ,  0.        ,  0.        ,\n",
    "        0.        ,  0.        ,  0.        ,  0.        ,  0.        ,\n",
    "        0.        ,  0.        ,  0.        ,  0.        ,  0.        ,\n",
    "        0.        ,  0.        ,  0.        ,  1.        ,  0.        ,\n",
    "        0.        ,  0.        ,  0.        ]])"
   ]
  },
  {
   "cell_type": "code",
   "execution_count": 33,
   "id": "8a82c222-782e-48bb-bb08-c26303c39b9d",
   "metadata": {},
   "outputs": [
    {
     "name": "stdout",
     "output_type": "stream",
     "text": [
      "Predicted Outcome: No\n"
     ]
    }
   ],
   "source": [
    "# Make prediction without scaling\n",
    "prediction = model.predict(data)\n",
    "\n",
    "# Output the result\n",
    "print(\"Predicted Outcome: \" + (\"Yes\" if prediction[0] == 1 else \"No\"))\n"
   ]
  },
  {
   "cell_type": "code",
   "execution_count": 35,
   "id": "83a20b7a-1cab-46dc-b0bd-e60174792943",
   "metadata": {},
   "outputs": [
    {
     "name": "stdout",
     "output_type": "stream",
     "text": [
      "Predicted Outcome: No\n"
     ]
    }
   ],
   "source": [
    "\n",
    "# Prepare the input based on the feature values you provided\n",
    "sample_input = np.array([[ \n",
    "    -0.636854,  # Duration_to_accept_offer\n",
    "    -0.419399,  # Notice_Period\n",
    "    1.163716,   # Percent_hike_expected_in_CTC\n",
    "    0.286519,   # Percent_difference_CTC\n",
    "    -0.485829,  # Rex_in_Yrs\n",
    "    -0.466487,  # Age\n",
    "    0.0,        # DOJ_Extended_Yes\n",
    "    1.0,        # Offered_Band_E1\n",
    "    0.0,        # Offered_Band_E2\n",
    "    0.0,        # Offered_Band_E3\n",
    "    0.0,        # Joining_Bonus_Yes\n",
    "    0.0,        # Candidate_relocate_actual_Yes\n",
    "    1.0,        # Gender_Male\n",
    "    1.0,        # Candidate_Source_Direct\n",
    "    0.0,        # Candidate_Source_Employee Referral\n",
    "    0.0,        # LOB_BFSI\n",
    "    1.0,        # LOB_CSMP\n",
    "    0.0,        # LOB_EAS\n",
    "    0.0,        # LOB_ERS\n",
    "    0.0,        # LOB_ETS\n",
    "    0.0,        # LOB_Healthcare\n",
    "    0.0,        # LOB_INFRA\n",
    "    0.0,        # LOB_MMS\n",
    "    0.0,        # Location_Bangalore\n",
    "    1.0,        # Location_Chennai\n",
    "    0.0,        # Location_Cochin\n",
    "    0.0,        # Location_Gurgaon\n",
    "    0.0,        # Location_Hyderabad\n",
    "    0.0,        # Location_Kolkata\n",
    "    0.0,        # Location_Mumbai\n",
    "    0.0,        # Location_Noida\n",
    "    0.0,        # Location_Pune\n",
    "    0.0,        # Region_Name_North\n",
    "    1.0,        # Region_Name_South\n",
    "    0.0,        # Region_Name_West\n",
    "    0.0,        # Domicile_Name_Bihar\n",
    "    0.0,        # Domicile_Name_Chandigarh\n",
    "    0.0,        # Domicile_Name_Chhattisgarh\n",
    "    0.0,        # Domicile_Name_Delhi\n",
    "    0.0,        # Domicile_Name_Goa\n",
    "    0.0,        # Domicile_Name_Gujarat\n",
    "    0.0,        # Domicile_Name_Haryana\n",
    "    0.0,        # Domicile_Name_Himachal Pradesh\n",
    "    1.0,        # Domicile_Name_Jharkhand\n",
    "    0.0,        # Domicile_Name_Karnataka\n",
    "    0.0,        # Domicile_Name_Kerala\n",
    "    0.0,        # Domicile_Name_Madhya Pradesh\n",
    "    0.0,        # Domicile_Name_Maharashtra\n",
    "    0.0,        # Domicile_Name_Manipur\n",
    "    0.0,        # Domicile_Name_Odisha\n",
    "    0.0,        # Domicile_Name_Punjab\n",
    "    0.0,        # Domicile_Name_Rajasthan\n",
    "    0.0,        # Domicile_Name_Tamil Nadu\n",
    "    0.0,        # Domicile_Name_Telangana\n",
    "    0.0,        # Domicile_Name_Tripura\n",
    "    0.0,        # Domicile_Name_Uttar Pradesh\n",
    "    0.0,        # Domicile_Name_Uttarkhand\n",
    "    0.0         # Domicile_Name_West Bengal\n",
    "]])\n",
    "\n",
    "# Make prediction without scaling\n",
    "prediction = model.predict(sample_input)\n",
    "\n",
    "# Output the result\n",
    "print(\"Predicted Outcome: \" + (\"Yes\" if prediction[0] == 1 else \"No\"))\n"
   ]
  },
  {
   "cell_type": "code",
   "execution_count": null,
   "id": "bc975d7c-9f08-4418-af10-8b618fe060c4",
   "metadata": {},
   "outputs": [],
   "source": []
  },
  {
   "cell_type": "code",
   "execution_count": 51,
   "id": "b61a00c1-711e-4175-820b-51c8870ca2a8",
   "metadata": {},
   "outputs": [
    {
     "name": "stdout",
     "output_type": "stream",
     "text": [
      "Predicted Outcome: No\n"
     ]
    }
   ],
   "source": [
    "def preprocess_input(input_data):\n",
    "    # Create a DataFrame from the input data\n",
    "    input_df = pd.DataFrame([input_data])\n",
    "    \n",
    "    # One-hot encode categorical features (ensure it matches training columns)\n",
    "    categorical_columns = ['DOJ_Extended', 'Offered_Band', 'Joining_Bonus', 'Candidate_relocate_actual', \n",
    "                           'Gender', 'Candidate_Source', 'LOB', 'Location', 'Region_Name', 'Domicile_Name']\n",
    "    \n",
    "    input_df = pd.get_dummies(input_df, columns=categorical_columns, drop_first=True)\n",
    "    \n",
    "    # Ensure all columns present during training are in the input data\n",
    "    for col in columns:  \n",
    "        if col not in input_df.columns:\n",
    "            input_df[col] = 0\n",
    "    \n",
    "    # Select numeric features to scale\n",
    "    numeric_features = ['Duration_to_accept_offer', 'Notice_Period', 'Percent_hike_expected_in_CTC', \n",
    "                        'Percent_difference_CTC', 'Rex_in_Yrs', 'Age']\n",
    "    \n",
    "    # Scale numeric features using the saved StandardScaler\n",
    "    input_df[numeric_features] = scaler.transform(input_df[numeric_features])\n",
    "    \n",
    "    return input_df\n",
    "\n",
    "def make_prediction(input_data):\n",
    "    # Preprocess the input\n",
    "    processed_input = preprocess_input(input_data)\n",
    "\n",
    "    # Ensure the processed input matches the expected feature order\n",
    "    processed_input = processed_input[columns]\n",
    "    \n",
    "    # Make the prediction\n",
    "    prediction = model.predict(processed_input)\n",
    "    \n",
    "    # Return the predicted class label ('Yes' or 'No')\n",
    "    return \"Yes\" if prediction[0] == 1 else \"No\"\n",
    "\n",
    "# Example input\n",
    "input_data = {\n",
    "    'DOJ_Extended': 'Yes',\n",
    "    'Duration_to_accept_offer': 14,\n",
    "    'Notice_Period': 30,\n",
    "    'Offered_Band': 'E2',\n",
    "    'Percent_hike_expected_in_CTC': -20.79,\n",
    "    'Percent_difference_CTC': 42.86,\n",
    "    'Joining_Bonus': 'No',\n",
    "    'Candidate_relocate_actual': 'No',\n",
    "    'Gender': 'Female',\n",
    "    'Candidate_Source': 'Direct',\n",
    "    'LOB': 'ERS',\n",
    "    'Location': 'Noida',\n",
    "    'Region_Name': 'North',\n",
    "    'Domicile_Name': 'Goa',\n",
    "    'Age': 34\n",
    "}\n",
    "\n",
    "# Get prediction\n",
    "result = make_prediction(input_data)\n",
    "print(f\"Predicted Outcome: {result}\")\n"
   ]
  },
  {
   "cell_type": "code",
   "execution_count": null,
   "id": "41543f01-3890-45d6-997d-b49fced6bfb2",
   "metadata": {},
   "outputs": [],
   "source": []
  }
 ],
 "metadata": {
  "kernelspec": {
   "display_name": "Python 3 (ipykernel)",
   "language": "python",
   "name": "python3"
  },
  "language_info": {
   "codemirror_mode": {
    "name": "ipython",
    "version": 3
   },
   "file_extension": ".py",
   "mimetype": "text/x-python",
   "name": "python",
   "nbconvert_exporter": "python",
   "pygments_lexer": "ipython3",
   "version": "3.12.4"
  }
 },
 "nbformat": 4,
 "nbformat_minor": 5
}
